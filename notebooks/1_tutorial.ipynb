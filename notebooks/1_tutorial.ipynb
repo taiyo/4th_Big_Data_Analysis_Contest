{
 "cells": [
  {
   "cell_type": "markdown",
   "metadata": {},
   "source": [
    "# The 4th Big Data Analysis Contest 予測部門 チュートリアル\n",
    "\n",
    "## 概要\n",
    "「The 4th Big Data Analysis Contest」（ https://signate.jp/competitions/136 ）の実装例です。\n",
    "本チュートリアルでは、モデルの構築ではなく、データの理解のための探索的分析、可視化を中心とした内容としています。\n",
    "実装にはpython（versionは3.6.3）を使用。構成は以下のとおりです。\n",
    "\n",
    "- 必要なライブラリ\n",
    "- 必要なデータの用意\n",
    "- 実装\n",
    "    1. データの読み込み\n",
    "    2. データの理解\n",
    "    3. 投稿ファイルの作成\n",
    "- まとめ\n",
    "\n",
    "## 必要なライブラリ\n",
    "日付の処理にdatetime、ファイルの処理にpandas、基本的な数値計算にnumpy、可視化にmatplotlib, seabornを使用します。\n",
    "\n",
    "## 必要なデータの用意\n",
    "https://signate.jp/competitions/136 へアクセスし, 「データ」タブを押し, 以下のファイルをダウンロードします。\n",
    "データは、dataset フォルダへ纏めておきます。\n",
    "\n",
    "軌道検測_首都圏路線A (track_A.csv)\n",
    "軌道検測_首都圏路線B (track_B.csv)\n",
    "軌道検測_地方幹線C (track_C.csv)\n",
    "軌道検測_地方路線D (track_D.csv)\n",
    "設備台帳_首都圏路線A (equipment_A.csv)\n",
    "設備台帳_首都圏路線B (equipment_B.csv)\n",
    "設備台帳_地方幹線C (equipment_C.csv)\n",
    "設備台帳_地方路線D (equipment_D.csv)"
   ]
  },
  {
   "cell_type": "markdown",
   "metadata": {},
   "source": [
    "## 実装\n",
    "まず必要なライブラリをインポートします。"
   ]
  },
  {
   "cell_type": "code",
   "execution_count": null,
   "metadata": {},
   "outputs": [],
   "source": [
    "import datetime as dt\n",
    "import pandas as pd\n",
    "import numpy as np\n",
    "import matplotlib.pyplot as plt\n",
    "import seaborn as sns\n",
    "%matplotlib inline"
   ]
  },
  {
   "cell_type": "markdown",
   "metadata": {},
   "source": [
    "## 1. データの読み込み\n",
    "4種類の軌道検測データを、路線名A,B,C,Dをキーとしたディクショナリに、項目\"date\"をタイムスタンプ型とした上で、データフレームとして読み込みます。\n",
    "設備台帳データも同様に読み込みます。"
   ]
  },
  {
   "cell_type": "code",
   "execution_count": null,
   "metadata": {},
   "outputs": [],
   "source": [
    "# データの読み込み\n",
    "tracks={}\n",
    "for no in ['A','B']:\n",
    "# for no in ['A','B','C','D']:\n",
    "    tracks[no] = pd.read_csv(\"../data/raw/track_\" + no + \".csv\", parse_dates=[\"date\"])"
   ]
  },
  {
   "cell_type": "code",
   "execution_count": null,
   "metadata": {},
   "outputs": [],
   "source": [
    "equipments={}\n",
    "# for no in ['A','B','C','D']:\n",
    "for no in ['A','B']:\n",
    "    equipments[no] = pd.read_csv(\"../data/raw/equipment_\" + no + \".csv\")"
   ]
  },
  {
   "cell_type": "code",
   "execution_count": null,
   "metadata": {},
   "outputs": [],
   "source": [
    "tracks[\"A\"].head()"
   ]
  },
  {
   "cell_type": "code",
   "execution_count": null,
   "metadata": {},
   "outputs": [],
   "source": [
    "equipments[\"A\"].head()"
   ]
  },
  {
   "cell_type": "markdown",
   "metadata": {},
   "source": [
    "## 2. データの理解\n",
    "まずは各路線の日付や計測地点の数、目的変数である\"高低左\"の欠損の割合を確認してみます。"
   ]
  },
  {
   "cell_type": "code",
   "execution_count": null,
   "metadata": {},
   "outputs": [],
   "source": [
    "for no, track in tracks.items():\n",
    "\n",
    "    n_date = track[\"date\"].unique().size\n",
    "    n_kiro = track[\"キロ程\"].unique().size\n",
    "    n_data = len(track[track[\"高低左\"].notnull()])\n",
    "\n",
    "    print('{:*^16}'.format(no))\n",
    "    print(\"期間　　：{} - {}  ({}days)\".format(track[\"date\"].min().date(), track[\"date\"].max().date(), n_date))\n",
    "    print(\"計測地点数：{:,}\".format(n_kiro))\n",
    "    print(\"有効データ数 / 理論データ数：{:,} / {:,} ({:.2%})\".format(n_data, len(track), n_data / len(track)))"
   ]
  },
  {
   "cell_type": "markdown",
   "metadata": {},
   "source": [
    "路線によって開始日が若干異なっていること、理論データ数の半数近くが欠損していることが分かります。  \n",
    "次にどの日付、計測地点に欠損が生じているのかを可視化してみます。"
   ]
  },
  {
   "cell_type": "code",
   "execution_count": null,
   "metadata": {},
   "outputs": [],
   "source": [
    "fig, axes = plt.subplots(2,2,figsize=(10,10), sharey=True)\n",
    "\n",
    "for k, (no, track) in enumerate(tracks.items()):\n",
    "    i = int(k / 2)\n",
    "    j = k % 2\n",
    "    mat = track.groupby([\"date\",\"キロ程\"]).max()[\"高低左\"].unstack().notnull()\n",
    "    mat.index = mat.index.format()\n",
    "    sns.heatmap(mat, cbar=False, ax=axes[i, j])\n",
    "    axes[i, j].set_title(no)\n",
    "plt.subplots_adjust(left=None, bottom=None, top=None, hspace=0.4)"
   ]
  },
  {
   "cell_type": "markdown",
   "metadata": {},
   "source": [
    "黒い箇所が欠損を表しますが、帯状に伸びている箇所も見られます。欠損の補完方法も鍵となりそうです。  \n",
    "次にtrack_Aのいくつかの計測地点の\"高低左\"の日別推移を可視化してみます。"
   ]
  },
  {
   "cell_type": "code",
   "execution_count": null,
   "metadata": {},
   "outputs": [],
   "source": [
    "track = tracks[\"A\"][[\"date\", \"キロ程\",\"高低左\"]]\n",
    "\n",
    "# 全計測地点から10箇所をランダムサンプリング\n",
    "rnd = np.random.choice(track[\"キロ程\"].unique(), size=10, replace=False, p=None)\n",
    "\n",
    "# サンプリングした計測地点の高低左変位を描画（Y軸のレンジを平均値±3で統一）\n",
    "fig, axes = plt.subplots(10,1,figsize=(15, 20) ,sharex=True)#, sharey=True)\n",
    "for i, k in enumerate(rnd):\n",
    "    data = track[track[\"キロ程\"]==k][\"高低左\"]\n",
    "    data.plot(ax=axes[i], title=\"キロ程:\" + str(k), marker=\".\", linewidth=0)\n",
    "    m = track[track[\"キロ程\"]==k][\"高低左\"].mean()\n",
    "    axes[i].set_ylim(m-3,m+3)"
   ]
  },
  {
   "cell_type": "markdown",
   "metadata": {},
   "source": [
    "様々な形状が確認できますが、中には補修作業があったと推測できるものも見てとれます。補修作業後の動き方の特徴も詳しく分析する必要がありそうです。  \n",
    "次に、track_Aの計測地点を始点30地点、終点30地点に絞り、\"高低左\",\"高低右\"の分布を箱ひげ図を用いて可視化してみます。"
   ]
  },
  {
   "cell_type": "code",
   "execution_count": null,
   "metadata": {},
   "outputs": [],
   "source": [
    "track = tracks[\"A\"]\n",
    "\n",
    "fig, axes = plt.subplots(2,1,figsize=(15,8))\n",
    "start30_kiros = track[\"キロ程\"].unique()[:30]\n",
    "end30_kiros = track[\"キロ程\"].unique()[-30:]\n",
    "\n",
    "track1 = track[track[\"キロ程\"].isin(start30_kiros)]\n",
    "track2 = track[track[\"キロ程\"].isin(end30_kiros)]\n",
    "\n",
    "# 左は赤、右は青\n",
    "sns.boxplot(x = \"キロ程\", y=\"高低左\",data=track1, color=\"r\", ax=axes[0])\n",
    "sns.boxplot(x = \"キロ程\", y=\"高低右\",data=track1, color=\"b\", ax=axes[0])\n",
    "axes[0].set_title(\"開始30地点\")\n",
    "axes[0].set_xticklabels(start30_kiros, rotation='vertical')\n",
    "axes[0].set_ylabel(\"\")\n",
    "\n",
    "sns.boxplot(x = \"キロ程\", y=\"高低左\",data=track2, color=\"r\", ax=axes[1])\n",
    "sns.boxplot(x = \"キロ程\", y=\"高低右\",data=track2, color=\"b\", ax=axes[1])\n",
    "axes[1].set_title(\"終了30地点\")\n",
    "axes[1].set_xticklabels(end30_kiros, rotation='vertical')\n",
    "axes[1].set_ylabel(\"\")\n",
    "\n",
    "plt.subplots_adjust(left=None, bottom=None, top=None, wspace=0, hspace=0.4)"
   ]
  },
  {
   "cell_type": "markdown",
   "metadata": {},
   "source": [
    "左右で若干の違いはありますが、滑らかに推移していることが分かります。予測対象の計測地点だけでなく、隣接地点の変位も参考になるかもしれません。  \n",
    "次に構造物の特徴に応じた\"高低左\"の分布の違いを見てみます。"
   ]
  },
  {
   "cell_type": "code",
   "execution_count": null,
   "metadata": {},
   "outputs": [],
   "source": [
    "# 軌道検測データと設備台帳データを統合\n",
    "dfs={}\n",
    "# for no in ['A','B','C','D']:\n",
    "for no in ['A','B']:\n",
    "    dfs[no] = pd.merge(tracks[no], equipments[no], on=\"キロ程\")"
   ]
  },
  {
   "cell_type": "code",
   "execution_count": null,
   "metadata": {},
   "outputs": [],
   "source": [
    "# 踏切と踏切以外での\"高低左\"の分布の違いを確認\n",
    "fig, axes = plt.subplots(1, 4, figsize=(18, 3), sharex=True, sharey=True)\n",
    "for i, (no, df) in enumerate(dfs.items()):\n",
    "    for f in [1, 0]: # 1=踏切, 0=踏切以外\n",
    "        tmp = df[df[\"踏切\"]==f][\"高低左\"].dropna() # 欠損があるとエラーとなるため削除\n",
    "        tmp = tmp[(tmp < 10) & (tmp > -10)] # 範囲を限定\n",
    "        sns.distplot(tmp, kde=True, rug=False, ax=axes[i])\n",
    "        axes[i].legend([\"踏切\",\"踏切以外\"])\n",
    "    axes[i].set_title(no)"
   ]
  },
  {
   "cell_type": "markdown",
   "metadata": {},
   "source": [
    "踏切以外はどの路線も-5.0 ～ 5.0 範囲にほぼ正規分布の形状で分布、踏切はやや歪な形をしていることが分かります。構造物の考慮も予測精度に影響すると考えれます。"
   ]
  },
  {
   "cell_type": "code",
   "execution_count": null,
   "metadata": {},
   "outputs": [],
   "source": []
  }
 ],
 "metadata": {
  "kernelspec": {
   "display_name": "Python 3",
   "language": "python",
   "name": "python3"
  },
  "language_info": {
   "codemirror_mode": {
    "name": "ipython",
    "version": 3
   },
   "file_extension": ".py",
   "mimetype": "text/x-python",
   "name": "python",
   "nbconvert_exporter": "python",
   "pygments_lexer": "ipython3",
   "version": "3.6.6"
  }
 },
 "nbformat": 4,
 "nbformat_minor": 2
}
